{
  "nbformat": 4,
  "nbformat_minor": 0,
  "metadata": {
    "colab": {
      "provenance": [],
      "authorship_tag": "ABX9TyOQl9b3JOxoaYK3IFZc1NhZ"
    },
    "kernelspec": {
      "name": "python3",
      "display_name": "Python 3"
    },
    "language_info": {
      "name": "python"
    }
  },
  "cells": [
    {
      "cell_type": "code",
      "execution_count": null,
      "metadata": {
        "colab": {
          "base_uri": "https://localhost:8080/"
        },
        "id": "TxIEcTZ6mc3D",
        "outputId": "3a3c50b9-3519-41c7-c20d-9628aa57ca64"
      },
      "outputs": [
        {
          "output_type": "execute_result",
          "data": {
            "text/plain": [
              "1732.91"
            ]
          },
          "metadata": {},
          "execution_count": 1
        }
      ],
      "source": [
        "(13.75*75)+(5*173)-(6.76*34)+66.5"
      ]
    },
    {
      "cell_type": "code",
      "source": [
        "(9.56*68)+(1.85*177)-(4.68*33)+665"
      ],
      "metadata": {
        "colab": {
          "base_uri": "https://localhost:8080/"
        },
        "id": "UQ27rIRUmqzE",
        "outputId": "47ee9e27-612a-4289-a8b6-e95d79648a17"
      },
      "execution_count": null,
      "outputs": [
        {
          "output_type": "execute_result",
          "data": {
            "text/plain": [
              "1488.09"
            ]
          },
          "metadata": {},
          "execution_count": 2
        }
      ]
    },
    {
      "cell_type": "code",
      "source": [],
      "metadata": {
        "id": "KESlg1qEnH4X"
      },
      "execution_count": null,
      "outputs": []
    }
  ]
}